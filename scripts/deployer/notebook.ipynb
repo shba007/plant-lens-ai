{
 "cells": [
  {
   "cell_type": "code",
   "execution_count": null,
   "metadata": {},
   "outputs": [],
   "source": [
    "!pip uninstall tensorflowjs"
   ]
  },
  {
   "cell_type": "code",
   "execution_count": null,
   "metadata": {},
   "outputs": [],
   "source": [
    "!pip install tensorflowjs"
   ]
  },
  {
   "cell_type": "code",
   "execution_count": null,
   "metadata": {},
   "outputs": [],
   "source": [
    "ROOT_PATH = \"D:/Programming/Projects/Public/plant-lens/ai\"\n",
    "DEVELOPMENT_MODEL_PATH = f\"{ROOT_PATH}/model/develop\"\n",
    "DEPLOYMENT_MODEL_PATH = f\"{ROOT_PATH}/model/deploy\"\n",
    "VERSION_TAG = \"0.2.1-30.keras\"  # input(\"Enter Version Tag (e.g 0.0.0-0):\")"
   ]
  },
  {
   "cell_type": "code",
   "execution_count": null,
   "metadata": {},
   "outputs": [],
   "source": [
    "command = f\"tensorflowjs_converter --input_format=keras --output_format=tfjs_layers_model '{DEVELOPMENT_MODEL_PATH}/v{VERSION_TAG}' '{DEPLOYMENT_MODEL_PATH}/v{VERSION_TAG}'\"\n",
    "\n",
    "command"
   ]
  },
  {
   "cell_type": "code",
   "execution_count": null,
   "metadata": {},
   "outputs": [],
   "source": [
    "!tensorflowjs_converter --input_format=keras --output_format=tfjs_layers_model 'D:/Programming/Projects/Public/plant-lens/ai/model/development/v0.1.1-35.h5' 'D:/Programming/Projects/Public/plant-lens/ai/model/deployment/v0.1.1-35'"
   ]
  }
 ],
 "metadata": {
  "kernelspec": {
   "display_name": ".venv",
   "language": "python",
   "name": "python3"
  },
  "language_info": {
   "codemirror_mode": {
    "name": "ipython",
    "version": 3
   },
   "file_extension": ".py",
   "mimetype": "text/x-python",
   "name": "python",
   "nbconvert_exporter": "python",
   "pygments_lexer": "ipython3",
   "version": "3.11.6"
  },
  "orig_nbformat": 4
 },
 "nbformat": 4,
 "nbformat_minor": 2
}
